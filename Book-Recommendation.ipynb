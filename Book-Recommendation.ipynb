{
 "cells": [
  {
   "cell_type": "markdown",
   "id": "712359b0",
   "metadata": {},
   "source": [
    "<h1> Data Wrangling </h1>\n",
    "<h3> Import datasets </h3>"
   ]
  },
  {
   "cell_type": "code",
   "execution_count": 1,
   "id": "960c4ab8",
   "metadata": {},
   "outputs": [],
   "source": [
    "#load required library\n",
    "import os\n",
    "import numpy as np # linear algebra\n",
    "import pandas as pd # data processing, CSV file I/O (e.g. pd.read_csv)"
   ]
  },
  {
   "cell_type": "code",
   "execution_count": 2,
   "id": "83909155",
   "metadata": {},
   "outputs": [],
   "source": [
    "train_data=pd.read_csv('C:/Uni/MSA/train.csv')\n",
    "test_data=pd.read_csv(\"C:/Uni/MSA/test.csv\")"
   ]
  },
  {
   "cell_type": "markdown",
   "id": "e633efc4",
   "metadata": {},
   "source": [
    "<h3>Data Exploration</h3>\n",
    "<p> Explore dataset and visualize the most common 2-word phrase to see the main topic of the book </p>"
   ]
  },
  {
   "cell_type": "code",
   "execution_count": 3,
   "id": "a0c3386c",
   "metadata": {},
   "outputs": [
    {
     "data": {
      "text/html": [
       "<div>\n",
       "<style scoped>\n",
       "    .dataframe tbody tr th:only-of-type {\n",
       "        vertical-align: middle;\n",
       "    }\n",
       "\n",
       "    .dataframe tbody tr th {\n",
       "        vertical-align: top;\n",
       "    }\n",
       "\n",
       "    .dataframe thead th {\n",
       "        text-align: right;\n",
       "    }\n",
       "</style>\n",
       "<table border=\"1\" class=\"dataframe\">\n",
       "  <thead>\n",
       "    <tr style=\"text-align: right;\">\n",
       "      <th></th>\n",
       "      <th>id</th>\n",
       "      <th>url_legal</th>\n",
       "      <th>license</th>\n",
       "      <th>excerpt</th>\n",
       "      <th>target</th>\n",
       "      <th>standard_error</th>\n",
       "    </tr>\n",
       "  </thead>\n",
       "  <tbody>\n",
       "    <tr>\n",
       "      <th>0</th>\n",
       "      <td>c12129c31</td>\n",
       "      <td>NaN</td>\n",
       "      <td>NaN</td>\n",
       "      <td>When the young people returned to the ballroom...</td>\n",
       "      <td>-0.340259</td>\n",
       "      <td>0.464009</td>\n",
       "    </tr>\n",
       "    <tr>\n",
       "      <th>1</th>\n",
       "      <td>85aa80a4c</td>\n",
       "      <td>NaN</td>\n",
       "      <td>NaN</td>\n",
       "      <td>All through dinner time, Mrs. Fayre was somewh...</td>\n",
       "      <td>-0.315372</td>\n",
       "      <td>0.480805</td>\n",
       "    </tr>\n",
       "    <tr>\n",
       "      <th>2</th>\n",
       "      <td>b69ac6792</td>\n",
       "      <td>NaN</td>\n",
       "      <td>NaN</td>\n",
       "      <td>As Roger had predicted, the snow departed as q...</td>\n",
       "      <td>-0.580118</td>\n",
       "      <td>0.476676</td>\n",
       "    </tr>\n",
       "    <tr>\n",
       "      <th>3</th>\n",
       "      <td>dd1000b26</td>\n",
       "      <td>NaN</td>\n",
       "      <td>NaN</td>\n",
       "      <td>And outside before the palace a great garden w...</td>\n",
       "      <td>-1.054013</td>\n",
       "      <td>0.450007</td>\n",
       "    </tr>\n",
       "    <tr>\n",
       "      <th>4</th>\n",
       "      <td>37c1b32fb</td>\n",
       "      <td>NaN</td>\n",
       "      <td>NaN</td>\n",
       "      <td>Once upon a time there were Three Bears who li...</td>\n",
       "      <td>0.247197</td>\n",
       "      <td>0.510845</td>\n",
       "    </tr>\n",
       "  </tbody>\n",
       "</table>\n",
       "</div>"
      ],
      "text/plain": [
       "          id url_legal license  \\\n",
       "0  c12129c31       NaN     NaN   \n",
       "1  85aa80a4c       NaN     NaN   \n",
       "2  b69ac6792       NaN     NaN   \n",
       "3  dd1000b26       NaN     NaN   \n",
       "4  37c1b32fb       NaN     NaN   \n",
       "\n",
       "                                             excerpt    target  standard_error  \n",
       "0  When the young people returned to the ballroom... -0.340259        0.464009  \n",
       "1  All through dinner time, Mrs. Fayre was somewh... -0.315372        0.480805  \n",
       "2  As Roger had predicted, the snow departed as q... -0.580118        0.476676  \n",
       "3  And outside before the palace a great garden w... -1.054013        0.450007  \n",
       "4  Once upon a time there were Three Bears who li...  0.247197        0.510845  "
      ]
     },
     "execution_count": 3,
     "metadata": {},
     "output_type": "execute_result"
    }
   ],
   "source": [
    "train_data.head()"
   ]
  },
  {
   "cell_type": "markdown",
   "id": "215530fb",
   "metadata": {},
   "source": [
    "<p>We are going to use excerpt to predict target, i.e. the readibility of the book which indicates how hard it is to read. The other variables are not suitable for the task </p>"
   ]
  },
  {
   "cell_type": "markdown",
   "id": "dd73f4a1",
   "metadata": {},
   "source": [
    "<h3>Data Preparation </h3>\n",
    "<p>Vectorize the word, or convert words into interger number so that the machine can understand and work with it </p>"
   ]
  },
  {
   "cell_type": "code",
   "execution_count": 4,
   "id": "7f2494c5",
   "metadata": {},
   "outputs": [
    {
     "data": {
      "text/plain": [
       "<2834x2000 sparse matrix of type '<class 'numpy.float64'>'\n",
       "\twith 106714 stored elements in Compressed Sparse Row format>"
      ]
     },
     "execution_count": 4,
     "metadata": {},
     "output_type": "execute_result"
    }
   ],
   "source": [
    "from sklearn.feature_extraction.text import TfidfVectorizer\n",
    "vectorizer = TfidfVectorizer(stop_words='english', max_features=2000, lowercase=True)\n",
    "X=vectorizer.fit_transform(train_data['excerpt'].values)\n",
    "X"
   ]
  },
  {
   "cell_type": "code",
   "execution_count": 5,
   "id": "2f7b2984",
   "metadata": {},
   "outputs": [],
   "source": [
    "y=train_data.loc[:, 'target']"
   ]
  },
  {
   "cell_type": "markdown",
   "id": "f9e02cc5",
   "metadata": {},
   "source": [
    "<h5>Split the train data to train and test dataset to test model efficiency before actually applying to the test dataset </h5>"
   ]
  },
  {
   "cell_type": "code",
   "execution_count": 6,
   "id": "e39a1ba4",
   "metadata": {},
   "outputs": [],
   "source": [
    "from sklearn.model_selection import train_test_split\n",
    "#split to train and test set\n",
    "X_train, X_val, y_train, y_val = train_test_split(X, y, test_size=0.2, random_state=42)"
   ]
  },
  {
   "cell_type": "code",
   "execution_count": null,
   "id": "385590d3",
   "metadata": {},
   "outputs": [],
   "source": [
    "print(train_data['excerpt'][0])"
   ]
  },
  {
   "cell_type": "markdown",
   "id": "352d6856",
   "metadata": {},
   "source": [
    "<p>Visualize the vectorization </p>"
   ]
  },
  {
   "cell_type": "code",
   "execution_count": 8,
   "id": "4a834351",
   "metadata": {},
   "outputs": [
    {
     "data": {
      "text/plain": [
       "<AxesSubplot:xlabel='Numbers representing words after vectorization', ylabel='Frequency of usage'>"
      ]
     },
     "execution_count": 8,
     "metadata": {},
     "output_type": "execute_result"
    },
    {
     "data": {
      "image/png": "[encoded data removed]",
      "text/plain": [
       "<Figure size 432x288 with 1 Axes>"
      ]
     },
     "metadata": {
      "needs_background": "light"
     },
     "output_type": "display_data"
    }
   ],
   "source": [
    "pd.DataFrame(vectorizer.transform(train_data['excerpt'][[0]] ).toarray()).T.plot(xlabel='Numbers representing words after vectorization',\n",
    "                                                                                ylabel='Frequency of usage', colormap='Pastel1')"
   ]
  },
  {
   "cell_type": "markdown",
   "id": "e547b832",
   "metadata": {},
   "source": [
    "<p>Plot top most common 2-words to see the topic </p>"
   ]
  },
  {
   "cell_type": "code",
   "execution_count": 9,
   "id": "68d4d5f7",
   "metadata": {},
   "outputs": [],
   "source": [
    "from sklearn.feature_extraction.text import CountVectorizer\n",
    "import matplotlib.pyplot as plt\n",
    "import seaborn as sns\n",
    "\n",
    "plt.style.use('ggplot')\n",
    "def ngrams(n, title, loc):\n",
    "    \"\"\"A Function to plot most common ngrams\"\"\"\n",
    "    fig, ax = plt.subplots(figsize=(18, 8))\n",
    "\n",
    "    new = train_data.excerpt.str.split()\n",
    "    new = new.values.tolist()\n",
    "    corpus = [word.lower() for i in new for word in i if word.lower()]\n",
    "    \n",
    "    def _get_top_ngram(corpus, n=None):\n",
    "            #getting top ngrams\n",
    "            vec = CountVectorizer(ngram_range=(n, n),\n",
    "                                  max_df=0.9,\n",
    "                                  stop_words='english').fit(corpus)\n",
    "            bag_of_words = vec.transform(corpus)\n",
    "            sum_words = bag_of_words.sum(axis=0)\n",
    "            words_freq = [(word, sum_words[0, idx])\n",
    "                          for word, idx in vec.vocabulary_.items()]\n",
    "            words_freq = sorted(words_freq, key=lambda x: x[1], reverse=True)\n",
    "            return words_freq[:15]\n",
    "\n",
    "    top_n_bigrams = _get_top_ngram(train_data.excerpt, n)[:15]\n",
    "    x, y = map(list, zip(*top_n_bigrams))\n",
    "    sns.barplot(x=y, y=x)  \n",
    "\n",
    "    \n",
    "    for n, i in enumerate(x):    \n",
    "            ax.text(y[n]-loc, \n",
    "            n, #Y location\n",
    "            s=f'{round(y[n],3)}', \n",
    "            va='center', \n",
    "            ha='right', \n",
    "            color='white', \n",
    "            fontsize=8,\n",
    "            bbox=dict(boxstyle='square',facecolor='black', alpha=0.5))\n",
    "\n",
    "    fig.suptitle(title, fontsize=24, va='baseline')\n",
    "    sns.despine()\n",
    "    plt.xticks([])\n",
    "    fig.patch.set_facecolor('#cffff7')\n",
    "    ax.patch.set_facecolor('#f2ffff')\n",
    "    plt.show()"
   ]
  },
  {
   "cell_type": "code",
   "execution_count": 10,
   "id": "3cf875c5",
   "metadata": {},
   "outputs": [
    {
     "data": {
      "image/png": "[encoded data removed]",
      "text/plain": [
       "<Figure size 1296x576 with 1 Axes>"
      ]
     },
     "metadata": {},
     "output_type": "display_data"
    }
   ],
   "source": [
    "ngrams(2, 'Most Common 2-Word Graph', 0.8)"
   ]
  },
  {
   "cell_type": "code",
   "execution_count": 11,
   "id": "f31667b5",
   "metadata": {},
   "outputs": [
    {
     "data": {
      "text/plain": [
       "(2267, 2000)"
      ]
     },
     "execution_count": 11,
     "metadata": {},
     "output_type": "execute_result"
    }
   ],
   "source": [
    "X_train.toarray().shape"
   ]
  },
  {
   "cell_type": "markdown",
   "id": "e6c53ecc",
   "metadata": {},
   "source": [
    "<h1>Data Modeling</h1>\n",
    "<p>We will explore different models, apply them in the test data to evaluate which model provides the best results based on their scores</p>\n",
    "<h3>Neural Network - Multi-layer Perceptron Regressor</h3>"
   ]
  },
  {
   "cell_type": "code",
   "execution_count": 12,
   "id": "497ff4c6",
   "metadata": {},
   "outputs": [
    {
     "data": {
      "text/plain": [
       "0.4304233295929897"
      ]
     },
     "execution_count": 12,
     "metadata": {},
     "output_type": "execute_result"
    }
   ],
   "source": [
    "from sklearn.neural_network import MLPRegressor\n",
    "import xgboost as xg\n",
    "from sklearn.ensemble import RandomForestRegressor\n",
    "\n",
    "#data modelling - MLPRegressor\n",
    "regr = MLPRegressor(hidden_layer_sizes=(512,1024,1024,512 ))\n",
    "\n",
    "#model fitting and evaluation\n",
    "regr.fit(X_train,y_train)\n",
    "y_pred = regr.predict(X_val)\n",
    "regr.score(X_val,y_val)"
   ]
  },
  {
   "cell_type": "code",
   "execution_count": 13,
   "id": "f942b98b",
   "metadata": {},
   "outputs": [
    {
     "data": {
      "text/plain": [
       "0.7722671327222546"
      ]
     },
     "execution_count": 13,
     "metadata": {},
     "output_type": "execute_result"
    }
   ],
   "source": [
    "#Calculate Root Mean Squared Error (RMSE)\n",
    "from sklearn.metrics import mean_squared_error\n",
    "import math\n",
    "mse = mean_squared_error(y_val,y_pred)\n",
    "math.sqrt(mse)"
   ]
  },
  {
   "cell_type": "markdown",
   "id": "f9407c4d",
   "metadata": {},
   "source": [
    "<h3>XGBoost - Extreme Gradient Boost</h3>"
   ]
  },
  {
   "cell_type": "code",
   "execution_count": 16,
   "id": "55cd5c0b",
   "metadata": {},
   "outputs": [
    {
     "name": "stdout",
     "output_type": "stream",
     "text": [
      "[09:28:29] WARNING: C:/Users/Administrator/workspace/xgboost-win64_release_1.4.0/src/objective/regression_obj.cu:171: reg:linear is now deprecated in favor of reg:squarederror.\n"
     ]
    },
    {
     "data": {
      "text/plain": [
       "0.8699365726318169"
      ]
     },
     "execution_count": 16,
     "metadata": {},
     "output_type": "execute_result"
    }
   ],
   "source": [
    "#data modelling - XGBoost\n",
    "xgb_r = xg.XGBRegressor(objective ='reg:linear',\n",
    "                  n_estimators = 10, seed = 1234)\n",
    "  \n",
    "# Fitting the model\n",
    "xgb_r.fit(X_train, y_train)\n",
    "y_predXG = xgb_r.predict(X_val)\n",
    "\n",
    "#Evaluating model with RMSE\n",
    "mseXG = mean_squared_error(y_val,y_predXG)\n",
    "math.sqrt(mseXG)"
   ]
  },
  {
   "cell_type": "markdown",
   "id": "b5837946",
   "metadata": {},
   "source": [
    "<h3>Random Forest Regressor </h3>"
   ]
  },
  {
   "cell_type": "code",
   "execution_count": 18,
   "id": "f627c3df",
   "metadata": {},
   "outputs": [
    {
     "data": {
      "text/plain": [
       "0.35085171156336836"
      ]
     },
     "execution_count": 18,
     "metadata": {},
     "output_type": "execute_result"
    }
   ],
   "source": [
    "regrRandomForest = RandomForestRegressor()\n",
    "\n",
    "#Fitting model\n",
    "regrRandomForest.fit(X_train,y_train)\n",
    "y_predRF = regrRandomForest.predict(X_val)\n",
    "\n",
    "#evaluate model\n",
    "regrRandomForest.score(X_val,y_val)"
   ]
  },
  {
   "cell_type": "code",
   "execution_count": 19,
   "id": "e4b69d4e",
   "metadata": {},
   "outputs": [
    {
     "data": {
      "text/plain": [
       "0.8244482752967623"
      ]
     },
     "execution_count": 19,
     "metadata": {},
     "output_type": "execute_result"
    }
   ],
   "source": [
    "#Calculate RMSE\n",
    "mseRF = mean_squared_error(y_val,y_predRF)\n",
    "math.sqrt(mseRF)"
   ]
  },
  {
   "cell_type": "markdown",
   "id": "31211148",
   "metadata": {},
   "source": [
    "<p> As RMSE of the Multi-layer Perceptron is smallest, we will use that model to use with our scrapped book data </p>"
   ]
  },
  {
   "cell_type": "code",
   "execution_count": 20,
   "id": "24e0f44b",
   "metadata": {},
   "outputs": [],
   "source": [
    "import pickle\n",
    "\n",
    "filename = 'mlpregressor.sav'\n",
    "pickle.dump(regr, open(filename, 'wb'))"
   ]
  },
  {
   "cell_type": "markdown",
   "id": "1d9718d7",
   "metadata": {},
   "source": [
    "<h1>Cleaning book data</h1>"
   ]
  },
  {
   "cell_type": "code",
   "execution_count": 32,
   "id": "f669596b",
   "metadata": {},
   "outputs": [
    {
     "name": "stderr",
     "output_type": "stream",
     "text": [
      "<ipython-input-32-c75b400a299b>:3: FutureWarning: The default value of regex will change from True to False in a future version.\n",
      "  data['book_chapter']=data['book_chapter'].str.replace('\\\\n', ' ')\n",
      "<ipython-input-32-c75b400a299b>:4: FutureWarning: The default value of regex will change from True to False in a future version.\n",
      "  data['book_chapter']=data['book_chapter'].str.replace('\\\\r', ' ')\n",
      "<ipython-input-32-c75b400a299b>:6: FutureWarning: The default value of regex will change from True to False in a future version.\n",
      "  data['book']=data['book'].str.replace('\\\\n', ' ')\n",
      "<ipython-input-32-c75b400a299b>:7: FutureWarning: The default value of regex will change from True to False in a future version.\n",
      "  data['book']=data['book'].str.replace('\\\\r', ' ')\n"
     ]
    },
    {
     "data": {
      "text/html": [
       "<div>\n",
       "<style scoped>\n",
       "    .dataframe tbody tr th:only-of-type {\n",
       "        vertical-align: middle;\n",
       "    }\n",
       "\n",
       "    .dataframe tbody tr th {\n",
       "        vertical-align: top;\n",
       "    }\n",
       "\n",
       "    .dataframe thead th {\n",
       "        text-align: right;\n",
       "    }\n",
       "</style>\n",
       "<table border=\"1\" class=\"dataframe\">\n",
       "  <thead>\n",
       "    <tr style=\"text-align: right;\">\n",
       "      <th></th>\n",
       "      <th>Unnamed: 0</th>\n",
       "      <th>book</th>\n",
       "      <th>book_download_link</th>\n",
       "      <th>book_chapter</th>\n",
       "    </tr>\n",
       "  </thead>\n",
       "  <tbody>\n",
       "    <tr>\n",
       "      <th>45</th>\n",
       "      <td>45</td>\n",
       "      <td>Le Morte D’Arthur</td>\n",
       "      <td>https://www.gutenberg.org/ebooks/1251.html.images</td>\n",
       "      <td>bibliographical note the morte d’arthur was ...</td>\n",
       "    </tr>\n",
       "    <tr>\n",
       "      <th>46</th>\n",
       "      <td>46</td>\n",
       "      <td>THE ENTIRE ORIGINAL MAUPASSANT SHORT STORIES</td>\n",
       "      <td>https://www.gutenberg.org/ebooks/3090.html.images</td>\n",
       "      <td>volume i.</td>\n",
       "    </tr>\n",
       "    <tr>\n",
       "      <th>47</th>\n",
       "      <td>47</td>\n",
       "      <td>MANIFESTO OF THE COMMUNIST PARTY</td>\n",
       "      <td>https://www.gutenberg.org/ebooks/61.html.noimages</td>\n",
       "      <td>*** start of this project gutenberg ebook the ...</td>\n",
       "    </tr>\n",
       "    <tr>\n",
       "      <th>48</th>\n",
       "      <td>48</td>\n",
       "      <td>Notes from the Underground</td>\n",
       "      <td>https://www.gutenberg.org/ebooks/600.html.images</td>\n",
       "      <td>*the author of the diary and the diary itself ...</td>\n",
       "    </tr>\n",
       "    <tr>\n",
       "      <th>49</th>\n",
       "      <td>49</td>\n",
       "      <td>The King James Version of the Bible</td>\n",
       "      <td>https://www.gutenberg.org/ebooks/10.html.images</td>\n",
       "      <td>the old testament of the king james version ...</td>\n",
       "    </tr>\n",
       "  </tbody>\n",
       "</table>\n",
       "</div>"
      ],
      "text/plain": [
       "    Unnamed: 0                                          book  \\\n",
       "45          45                             Le Morte D’Arthur   \n",
       "46          46  THE ENTIRE ORIGINAL MAUPASSANT SHORT STORIES   \n",
       "47          47              MANIFESTO OF THE COMMUNIST PARTY   \n",
       "48          48                    Notes from the Underground   \n",
       "49          49           The King James Version of the Bible   \n",
       "\n",
       "                                   book_download_link  \\\n",
       "45  https://www.gutenberg.org/ebooks/1251.html.images   \n",
       "46  https://www.gutenberg.org/ebooks/3090.html.images   \n",
       "47  https://www.gutenberg.org/ebooks/61.html.noimages   \n",
       "48   https://www.gutenberg.org/ebooks/600.html.images   \n",
       "49    https://www.gutenberg.org/ebooks/10.html.images   \n",
       "\n",
       "                                         book_chapter  \n",
       "45    bibliographical note the morte d’arthur was ...  \n",
       "46                                          volume i.  \n",
       "47  *** start of this project gutenberg ebook the ...  \n",
       "48  *the author of the diary and the diary itself ...  \n",
       "49    the old testament of the king james version ...  "
      ]
     },
     "execution_count": 32,
     "metadata": {},
     "output_type": "execute_result"
    }
   ],
   "source": [
    "data=pd.read_csv('C:/Uni/MSA/2021 data science/Book_download.csv')\n",
    "\n",
    "data['book_chapter']=data['book_chapter'].str.replace('\\\\n', ' ')\n",
    "data['book_chapter']=data['book_chapter'].str.replace('\\\\r', ' ')\n",
    "data['book_chapter']=data['book_chapter'].str.lower()\n",
    "data['book']=data['book'].str.replace('\\\\n', ' ')\n",
    "data['book']=data['book'].str.replace('\\\\r', ' ')\n",
    "\n",
    "data=data.dropna(subset=['book_chapter'])\n",
    "data.tail()"
   ]
  },
  {
   "cell_type": "code",
   "execution_count": 33,
   "id": "e6dd2dc2",
   "metadata": {},
   "outputs": [],
   "source": [
    "X_test=vectorizer.fit_transform(data['book_chapter'].values)\n",
    "\n",
    "y_test = regr.predict(X_test)\n"
   ]
  },
  {
   "cell_type": "code",
   "execution_count": 34,
   "id": "a65b2aeb",
   "metadata": {},
   "outputs": [],
   "source": [
    "df = pd.DataFrame({'Book':data['book'].values, 'target': y_test})\n",
    "# Put into .csv file\n",
    "df.to_csv('book-submission.csv', index=False)"
   ]
  }
 ],
 "metadata": {
  "kernelspec": {
   "display_name": "Python 3",
   "language": "python",
   "name": "python3"
  },
  "language_info": {
   "codemirror_mode": {
    "name": "ipython",
    "version": 3
   },
   "file_extension": ".py",
   "mimetype": "text/x-python",
   "name": "python",
   "nbconvert_exporter": "python",
   "pygments_lexer": "ipython3",
   "version": "3.8.5"
  }
 },
 "nbformat": 4,
 "nbformat_minor": 5
}
