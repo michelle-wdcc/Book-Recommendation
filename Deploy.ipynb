{
 "cells": [
  {
   "cell_type": "code",
   "execution_count": null,
   "id": "33737c07",
   "metadata": {},
   "outputs": [],
   "source": [
    "pip install azureml-core"
   ]
  },
  {
   "cell_type": "code",
   "execution_count": 1,
   "id": "6b342aa3",
   "metadata": {},
   "outputs": [
    {
     "name": "stdout",
     "output_type": "stream",
     "text": [
      "Workspace.create(name='MSA-model-deployment', subscription_id='8f613df3-30f7-40d7-a9a3-8861f9369752', resource_group='MSA-model-deployment')\n"
     ]
    }
   ],
   "source": [
    "from azureml.core import Workspace\n",
    "ws = Workspace.from_config(path = \"config.json\")\n",
    "print(ws)"
   ]
  },
  {
   "cell_type": "code",
   "execution_count": 2,
   "id": "2d11e569",
   "metadata": {},
   "outputs": [],
   "source": [
    "from azureml.core.model import Model\n",
    "\n",
    "# Register model\n",
    "#model = Model.register(ws, model_name = \"lit-regressor\", model_path = \"finalized_model.sav\")\n",
    "model = Model(ws, id='lit-regressor:1')"
   ]
  },
  {
   "cell_type": "code",
   "execution_count": 4,
   "id": "c4731d8b",
   "metadata": {},
   "outputs": [],
   "source": [
    "from azureml.core import Environment\n",
    "from azureml.core.conda_dependencies import CondaDependencies\n",
    "from azureml.core.model import InferenceConfig\n",
    "\n",
    "\n",
    "# Create environment \n",
    "env = Environment(name = \"lit-regressor\")\n",
    "conda_dep = CondaDependencies()\n",
    "conda_dep.add_conda_package(\"numpy\")\n",
    "conda_dep.add_conda_package(\"xgboost\")\n",
    "conda_dep.add_conda_package(\"pandas\")\n",
    "conda_dep.add_conda_package(\"scikit-learn\")\n",
    "env.python.conda_dependencies = conda_dep\n",
    "\n",
    "dummy_inference_config = InferenceConfig(\n",
    "    environment = env,\n",
    "    source_directory = \"./source_dir\",\n",
    "    entry_script = \"./echo_score.py\",\n",
    ")"
   ]
  },
  {
   "cell_type": "code",
   "execution_count": 24,
   "id": "02749341",
   "metadata": {},
   "outputs": [
    {
     "name": "stdout",
     "output_type": "stream",
     "text": [
      "Requirement already satisfied: azure-ml-api-sdk in c:\\python38\\lib\\site-packages (0.1.0a11)\n",
      "Requirement already satisfied: python-dateutil in c:\\python38\\lib\\site-packages (from azure-ml-api-sdk) (2.8.1)\n",
      "Requirement already satisfied: pytz in c:\\python38\\lib\\site-packages (from azure-ml-api-sdk) (2021.1)\n",
      "Requirement already satisfied: liac-arff in c:\\python38\\lib\\site-packages (from azure-ml-api-sdk) (2.5.0)\n",
      "Requirement already satisfied: six>=1.5 in c:\\python38\\lib\\site-packages (from python-dateutil->azure-ml-api-sdk) (1.15.0)\n",
      "Note: you may need to restart the kernel to use updated packages.\n"
     ]
    },
    {
     "name": "stderr",
     "output_type": "stream",
     "text": [
      "WARNING: Ignoring invalid distribution -p (c:\\python38\\lib\\site-packages)\n",
      "WARNING: Ignoring invalid distribution -ip (c:\\python38\\lib\\site-packages)\n",
      "WARNING: Ignoring invalid distribution - (c:\\python38\\lib\\site-packages)\n",
      "WARNING: Ignoring invalid distribution -p (c:\\python38\\lib\\site-packages)\n",
      "WARNING: Ignoring invalid distribution -ip (c:\\python38\\lib\\site-packages)\n",
      "WARNING: Ignoring invalid distribution - (c:\\python38\\lib\\site-packages)\n",
      "WARNING: Ignoring invalid distribution -p (c:\\python38\\lib\\site-packages)\n",
      "WARNING: Ignoring invalid distribution -ip (c:\\python38\\lib\\site-packages)\n",
      "WARNING: Ignoring invalid distribution - (c:\\python38\\lib\\site-packages)\n",
      "WARNING: Ignoring invalid distribution -p (c:\\python38\\lib\\site-packages)\n",
      "WARNING: Ignoring invalid distribution -ip (c:\\python38\\lib\\site-packages)\n",
      "WARNING: Ignoring invalid distribution - (c:\\python38\\lib\\site-packages)\n",
      "WARNING: Ignoring invalid distribution -p (c:\\python38\\lib\\site-packages)\n",
      "WARNING: Ignoring invalid distribution -ip (c:\\python38\\lib\\site-packages)\n",
      "WARNING: Ignoring invalid distribution - (c:\\python38\\lib\\site-packages)\n",
      "WARNING: Ignoring invalid distribution -p (c:\\python38\\lib\\site-packages)\n",
      "WARNING: Ignoring invalid distribution -ip (c:\\python38\\lib\\site-packages)\n",
      "WARNING: Ignoring invalid distribution - (c:\\python38\\lib\\site-packages)\n"
     ]
    }
   ],
   "source": [
    "pip install azure-ml-api-sdk"
   ]
  },
  {
   "cell_type": "code",
   "execution_count": 5,
   "id": "b32bafa1",
   "metadata": {},
   "outputs": [
    {
     "name": "stdout",
     "output_type": "stream",
     "text": [
      "Tips: You can try get_logs(): https://aka.ms/debugimage#dockerlog or local deployment: https://aka.ms/debugimage#debug-locally to debug if deployment takes longer than 10 minutes.\n",
      "Running\n",
      "2021-10-15 08:51:15+13:00 Creating Container Registry if not exists.\n",
      "2021-10-15 08:51:15+13:00 Registering the environment.\n",
      "2021-10-15 08:51:17+13:00 Use the existing image.\n",
      "2021-10-15 08:51:18+13:00 Generating deployment configuration.\n",
      "2021-10-15 08:51:18+13:00 Submitting deployment to compute..\n",
      "2021-10-15 08:51:23+13:00 Checking the status of deployment lit-regressor..\n",
      "2021-10-15 08:55:16+13:00 Checking the status of inference endpoint lit-regressor.\n",
      "Failed\n"
     ]
    },
    {
     "name": "stderr",
     "output_type": "stream",
     "text": [
      "Service deployment polling reached non-successful terminal state, current service state: Failed\n",
      "Operation ID: 0e03df40-08ff-4849-a13e-ab9f127e10cd\n",
      "More information can be found using '.get_logs()'\n",
      "Error:\n",
      "{\n",
      "  \"code\": \"AciDeploymentFailed\",\n",
      "  \"statusCode\": 400,\n",
      "  \"message\": \"Aci Deployment failed with exception: Your container application crashed. This may be caused by errors in your scoring file's init() function.\n",
      "\t1. Please check the logs for your container instance: lit-regressor. From the AML SDK, you can run print(service.get_logs()) if you have service object to fetch the logs.\n",
      "\t2. You can interactively debug your scoring file locally. Please refer to https://docs.microsoft.com/azure/machine-learning/how-to-debug-visual-studio-code#debug-and-troubleshoot-deployments for more information.\n",
      "\t3. You can also try to run image msamodeldeployment.azurecr.io/azureml/azureml_81c20017cb737c0aabf198e9e484b0bf locally. Please refer to https://aka.ms/debugimage#service-launch-fails for more information.\",\n",
      "  \"details\": [\n",
      "    {\n",
      "      \"code\": \"CrashLoopBackOff\",\n",
      "      \"message\": \"Your container application crashed. This may be caused by errors in your scoring file's init() function.\n",
      "\t1. Please check the logs for your container instance: lit-regressor. From the AML SDK, you can run print(service.get_logs()) if you have service object to fetch the logs.\n",
      "\t2. You can interactively debug your scoring file locally. Please refer to https://docs.microsoft.com/azure/machine-learning/how-to-debug-visual-studio-code#debug-and-troubleshoot-deployments for more information.\n",
      "\t3. You can also try to run image msamodeldeployment.azurecr.io/azureml/azureml_81c20017cb737c0aabf198e9e484b0bf locally. Please refer to https://aka.ms/debugimage#service-launch-fails for more information.\"\n",
      "    },\n",
      "    {\n",
      "      \"code\": \"AciDeploymentFailed\",\n",
      "      \"message\": \"Your container application crashed. Please follow the steps to debug:\n",
      "\t1. From the AML SDK, you can run print(service.get_logs()) if you have service object to fetch the logs. Please refer to https://aka.ms/debugimage#dockerlog for more information.\n",
      "\t2. If your container application crashed. This may be caused by errors in your scoring file's init() function. You can try debugging locally first. Please refer to https://aka.ms/debugimage#debug-locally for more information.\n",
      "\t3. You can also interactively debug your scoring file locally. Please refer to https://docs.microsoft.com/azure/machine-learning/how-to-debug-visual-studio-code#debug-and-troubleshoot-deployments for more information.\n",
      "\t4. View the diagnostic events to check status of container, it may help you to debug the issue.\n",
      "\"RestartCount\": 3\n",
      "\"CurrentState\": {\"state\":\"Waiting\",\"startTime\":null,\"exitCode\":null,\"finishTime\":null,\"detailStatus\":\"CrashLoopBackOff: Back-off restarting failed\"}\n",
      "\"PreviousState\": {\"state\":\"Terminated\",\"startTime\":\"2021-10-14T19:56:09.618Z\",\"exitCode\":111,\"finishTime\":\"2021-10-14T19:56:17.923Z\",\"detailStatus\":\"Error\"}\n",
      "\"Events\":\n",
      "{\"count\":2,\"firstTimestamp\":\"2021-10-14T18:45:08Z\",\"lastTimestamp\":\"2021-10-14T19:34:54Z\",\"name\":\"Pulling\",\"message\":\"pulling image \"msamodeldeployment.azurecr.io/azureml/azureml_81c20017cb737c0aabf198e9e484b0bf@sha256:db4a61d1d2cd7d26498e355ac4803c6ef939ceb13e040d90c7a90a4b4a654725\"\",\"type\":\"Normal\"}\n",
      "{\"count\":2,\"firstTimestamp\":\"2021-10-14T18:47:13Z\",\"lastTimestamp\":\"2021-10-14T19:37:00Z\",\"name\":\"Pulled\",\"message\":\"Successfully pulled image \"msamodeldeployment.azurecr.io/azureml/azureml_81c20017cb737c0aabf198e9e484b0bf@sha256:db4a61d1d2cd7d26498e355ac4803c6ef939ceb13e040d90c7a90a4b4a654725\"\",\"type\":\"Normal\"}\n",
      "{\"count\":14,\"firstTimestamp\":\"2021-10-14T18:47:35Z\",\"lastTimestamp\":\"2021-10-14T19:40:32Z\",\"name\":\"Started\",\"message\":\"Started container\",\"type\":\"Normal\"}\n",
      "{\"count\":14,\"firstTimestamp\":\"2021-10-14T18:47:42Z\",\"lastTimestamp\":\"2021-10-14T19:40:41Z\",\"name\":\"Killing\",\"message\":\"Killing container with id 4027a187dac963d9bfbf7d1898d1c25211007a375d16cacd84ff56bd759bcc1a.\",\"type\":\"Normal\"}\n",
      "{\"count\":2,\"firstTimestamp\":\"2021-10-14T18:56:31Z\",\"lastTimestamp\":\"2021-10-14T19:38:37Z\",\"name\":\"Pulling\",\"message\":\"pulling image \"msamodeldeployment.azurecr.io/azureml/azureml_81c20017cb737c0aabf198e9e484b0bf@sha256:db4a61d1d2cd7d26498e355ac4803c6ef939ceb13e040d90c7a90a4b4a654725\"\",\"type\":\"Normal\"}\n",
      "{\"count\":2,\"firstTimestamp\":\"2021-10-14T18:57:48Z\",\"lastTimestamp\":\"2021-10-14T19:39:56Z\",\"name\":\"Pulled\",\"message\":\"Successfully pulled image \"msamodeldeployment.azurecr.io/azureml/azureml_81c20017cb737c0aabf198e9e484b0bf@sha256:db4a61d1d2cd7d26498e355ac4803c6ef939ceb13e040d90c7a90a4b4a654725\"\",\"type\":\"Normal\"}\n",
      "{\"count\":18,\"firstTimestamp\":\"2021-10-14T19:01:12Z\",\"lastTimestamp\":\"2021-10-14T19:54:15Z\",\"name\":\"Started\",\"message\":\"Started container\",\"type\":\"Normal\"}\n",
      "{\"count\":18,\"firstTimestamp\":\"2021-10-14T19:01:22Z\",\"lastTimestamp\":\"2021-10-14T19:54:23Z\",\"name\":\"Killing\",\"message\":\"Killing container with id 2da35d1fe93e21b87977a7e2114877cf4c20d48389714152a0cecd10d7a62c28.\",\"type\":\"Normal\"}\n",
      "{\"count\":2,\"firstTimestamp\":\"2021-10-14T19:10:20Z\",\"lastTimestamp\":\"2021-10-14T19:54:17Z\",\"name\":\"Pulling\",\"message\":\"pulling image \"msamodeldeployment.azurecr.io/azureml/azureml_81c20017cb737c0aabf198e9e484b0bf@sha256:db4a61d1d2cd7d26498e355ac4803c6ef939ceb13e040d90c7a90a4b4a654725\"\",\"type\":\"Normal\"}\n",
      "{\"count\":2,\"firstTimestamp\":\"2021-10-14T19:11:38Z\",\"lastTimestamp\":\"2021-10-14T19:54:17Z\",\"name\":\"Pulled\",\"message\":\"Successfully pulled image \"msamodeldeployment.azurecr.io/azureml/azureml_81c20017cb737c0aabf198e9e484b0bf@sha256:db4a61d1d2cd7d26498e355ac4803c6ef939ceb13e040d90c7a90a4b4a654725\"\",\"type\":\"Normal\"}\n",
      "{\"count\":18,\"firstTimestamp\":\"2021-10-14T19:14:58Z\",\"lastTimestamp\":\"2021-10-14T19:56:09Z\",\"name\":\"Started\",\"message\":\"Started container\",\"type\":\"Normal\"}\n",
      "{\"count\":18,\"firstTimestamp\":\"2021-10-14T19:15:06Z\",\"lastTimestamp\":\"2021-10-14T19:56:17Z\",\"name\":\"Killing\",\"message\":\"Killing container with id a92729934095cee6e740fd56a7174d69d9a0043f71f032d66c6551c7781abf30.\",\"type\":\"Normal\"}\n",
      "\"\n",
      "    }\n",
      "  ]\n",
      "}\n",
      "\n"
     ]
    },
    {
     "ename": "WebserviceException",
     "evalue": "WebserviceException:\n\tMessage: Service deployment polling reached non-successful terminal state, current service state: Failed\nOperation ID: 0e03df40-08ff-4849-a13e-ab9f127e10cd\nMore information can be found using '.get_logs()'\nError:\n{\n  \"code\": \"AciDeploymentFailed\",\n  \"statusCode\": 400,\n  \"message\": \"Aci Deployment failed with exception: Your container application crashed. This may be caused by errors in your scoring file's init() function.\n\t1. Please check the logs for your container instance: lit-regressor. From the AML SDK, you can run print(service.get_logs()) if you have service object to fetch the logs.\n\t2. You can interactively debug your scoring file locally. Please refer to https://docs.microsoft.com/azure/machine-learning/how-to-debug-visual-studio-code#debug-and-troubleshoot-deployments for more information.\n\t3. You can also try to run image msamodeldeployment.azurecr.io/azureml/azureml_81c20017cb737c0aabf198e9e484b0bf locally. Please refer to https://aka.ms/debugimage#service-launch-fails for more information.\",\n  \"details\": [\n    {\n      \"code\": \"CrashLoopBackOff\",\n      \"message\": \"Your container application crashed. This may be caused by errors in your scoring file's init() function.\n\t1. Please check the logs for your container instance: lit-regressor. From the AML SDK, you can run print(service.get_logs()) if you have service object to fetch the logs.\n\t2. You can interactively debug your scoring file locally. Please refer to https://docs.microsoft.com/azure/machine-learning/how-to-debug-visual-studio-code#debug-and-troubleshoot-deployments for more information.\n\t3. You can also try to run image msamodeldeployment.azurecr.io/azureml/azureml_81c20017cb737c0aabf198e9e484b0bf locally. Please refer to https://aka.ms/debugimage#service-launch-fails for more information.\"\n    },\n    {\n      \"code\": \"AciDeploymentFailed\",\n      \"message\": \"Your container application crashed. Please follow the steps to debug:\n\t1. From the AML SDK, you can run print(service.get_logs()) if you have service object to fetch the logs. Please refer to https://aka.ms/debugimage#dockerlog for more information.\n\t2. If your container application crashed. This may be caused by errors in your scoring file's init() function. You can try debugging locally first. Please refer to https://aka.ms/debugimage#debug-locally for more information.\n\t3. You can also interactively debug your scoring file locally. Please refer to https://docs.microsoft.com/azure/machine-learning/how-to-debug-visual-studio-code#debug-and-troubleshoot-deployments for more information.\n\t4. View the diagnostic events to check status of container, it may help you to debug the issue.\n\"RestartCount\": 3\n\"CurrentState\": {\"state\":\"Waiting\",\"startTime\":null,\"exitCode\":null,\"finishTime\":null,\"detailStatus\":\"CrashLoopBackOff: Back-off restarting failed\"}\n\"PreviousState\": {\"state\":\"Terminated\",\"startTime\":\"2021-10-14T19:56:09.618Z\",\"exitCode\":111,\"finishTime\":\"2021-10-14T19:56:17.923Z\",\"detailStatus\":\"Error\"}\n\"Events\":\n{\"count\":2,\"firstTimestamp\":\"2021-10-14T18:45:08Z\",\"lastTimestamp\":\"2021-10-14T19:34:54Z\",\"name\":\"Pulling\",\"message\":\"pulling image \"msamodeldeployment.azurecr.io/azureml/azureml_81c20017cb737c0aabf198e9e484b0bf@sha256:db4a61d1d2cd7d26498e355ac4803c6ef939ceb13e040d90c7a90a4b4a654725\"\",\"type\":\"Normal\"}\n{\"count\":2,\"firstTimestamp\":\"2021-10-14T18:47:13Z\",\"lastTimestamp\":\"2021-10-14T19:37:00Z\",\"name\":\"Pulled\",\"message\":\"Successfully pulled image \"msamodeldeployment.azurecr.io/azureml/azureml_81c20017cb737c0aabf198e9e484b0bf@sha256:db4a61d1d2cd7d26498e355ac4803c6ef939ceb13e040d90c7a90a4b4a654725\"\",\"type\":\"Normal\"}\n{\"count\":14,\"firstTimestamp\":\"2021-10-14T18:47:35Z\",\"lastTimestamp\":\"2021-10-14T19:40:32Z\",\"name\":\"Started\",\"message\":\"Started container\",\"type\":\"Normal\"}\n{\"count\":14,\"firstTimestamp\":\"2021-10-14T18:47:42Z\",\"lastTimestamp\":\"2021-10-14T19:40:41Z\",\"name\":\"Killing\",\"message\":\"Killing container with id 4027a187dac963d9bfbf7d1898d1c25211007a375d16cacd84ff56bd759bcc1a.\",\"type\":\"Normal\"}\n{\"count\":2,\"firstTimestamp\":\"2021-10-14T18:56:31Z\",\"lastTimestamp\":\"2021-10-14T19:38:37Z\",\"name\":\"Pulling\",\"message\":\"pulling image \"msamodeldeployment.azurecr.io/azureml/azureml_81c20017cb737c0aabf198e9e484b0bf@sha256:db4a61d1d2cd7d26498e355ac4803c6ef939ceb13e040d90c7a90a4b4a654725\"\",\"type\":\"Normal\"}\n{\"count\":2,\"firstTimestamp\":\"2021-10-14T18:57:48Z\",\"lastTimestamp\":\"2021-10-14T19:39:56Z\",\"name\":\"Pulled\",\"message\":\"Successfully pulled image \"msamodeldeployment.azurecr.io/azureml/azureml_81c20017cb737c0aabf198e9e484b0bf@sha256:db4a61d1d2cd7d26498e355ac4803c6ef939ceb13e040d90c7a90a4b4a654725\"\",\"type\":\"Normal\"}\n{\"count\":18,\"firstTimestamp\":\"2021-10-14T19:01:12Z\",\"lastTimestamp\":\"2021-10-14T19:54:15Z\",\"name\":\"Started\",\"message\":\"Started container\",\"type\":\"Normal\"}\n{\"count\":18,\"firstTimestamp\":\"2021-10-14T19:01:22Z\",\"lastTimestamp\":\"2021-10-14T19:54:23Z\",\"name\":\"Killing\",\"message\":\"Killing container with id 2da35d1fe93e21b87977a7e2114877cf4c20d48389714152a0cecd10d7a62c28.\",\"type\":\"Normal\"}\n{\"count\":2,\"firstTimestamp\":\"2021-10-14T19:10:20Z\",\"lastTimestamp\":\"2021-10-14T19:54:17Z\",\"name\":\"Pulling\",\"message\":\"pulling image \"msamodeldeployment.azurecr.io/azureml/azureml_81c20017cb737c0aabf198e9e484b0bf@sha256:db4a61d1d2cd7d26498e355ac4803c6ef939ceb13e040d90c7a90a4b4a654725\"\",\"type\":\"Normal\"}\n{\"count\":2,\"firstTimestamp\":\"2021-10-14T19:11:38Z\",\"lastTimestamp\":\"2021-10-14T19:54:17Z\",\"name\":\"Pulled\",\"message\":\"Successfully pulled image \"msamodeldeployment.azurecr.io/azureml/azureml_81c20017cb737c0aabf198e9e484b0bf@sha256:db4a61d1d2cd7d26498e355ac4803c6ef939ceb13e040d90c7a90a4b4a654725\"\",\"type\":\"Normal\"}\n{\"count\":18,\"firstTimestamp\":\"2021-10-14T19:14:58Z\",\"lastTimestamp\":\"2021-10-14T19:56:09Z\",\"name\":\"Started\",\"message\":\"Started container\",\"type\":\"Normal\"}\n{\"count\":18,\"firstTimestamp\":\"2021-10-14T19:15:06Z\",\"lastTimestamp\":\"2021-10-14T19:56:17Z\",\"name\":\"Killing\",\"message\":\"Killing container with id a92729934095cee6e740fd56a7174d69d9a0043f71f032d66c6551c7781abf30.\",\"type\":\"Normal\"}\n\"\n    }\n  ]\n}\n\tInnerException None\n\tErrorResponse \n{\n    \"error\": {\n        \"message\": \"Service deployment polling reached non-successful terminal state, current service state: Failed\\nOperation ID: 0e03df40-08ff-4849-a13e-ab9f127e10cd\\nMore information can be found using '.get_logs()'\\nError:\\n{\\n  \\\"code\\\": \\\"AciDeploymentFailed\\\",\\n  \\\"statusCode\\\": 400,\\n  \\\"message\\\": \\\"Aci Deployment failed with exception: Your container application crashed. This may be caused by errors in your scoring file's init() function.\\n\\t1. Please check the logs for your container instance: lit-regressor. From the AML SDK, you can run print(service.get_logs()) if you have service object to fetch the logs.\\n\\t2. You can interactively debug your scoring file locally. Please refer to https://docs.microsoft.com/azure/machine-learning/how-to-debug-visual-studio-code#debug-and-troubleshoot-deployments for more information.\\n\\t3. You can also try to run image msamodeldeployment.azurecr.io/azureml/azureml_81c20017cb737c0aabf198e9e484b0bf locally. Please refer to https://aka.ms/debugimage#service-launch-fails for more information.\\\",\\n  \\\"details\\\": [\\n    {\\n      \\\"code\\\": \\\"CrashLoopBackOff\\\",\\n      \\\"message\\\": \\\"Your container application crashed. This may be caused by errors in your scoring file's init() function.\\n\\t1. Please check the logs for your container instance: lit-regressor. From the AML SDK, you can run print(service.get_logs()) if you have service object to fetch the logs.\\n\\t2. You can interactively debug your scoring file locally. Please refer to https://docs.microsoft.com/azure/machine-learning/how-to-debug-visual-studio-code#debug-and-troubleshoot-deployments for more information.\\n\\t3. You can also try to run image msamodeldeployment.azurecr.io/azureml/azureml_81c20017cb737c0aabf198e9e484b0bf locally. Please refer to https://aka.ms/debugimage#service-launch-fails for more information.\\\"\\n    },\\n    {\\n      \\\"code\\\": \\\"AciDeploymentFailed\\\",\\n      \\\"message\\\": \\\"Your container application crashed. Please follow the steps to debug:\\n\\t1. From the AML SDK, you can run print(service.get_logs()) if you have service object to fetch the logs. Please refer to https://aka.ms/debugimage#dockerlog for more information.\\n\\t2. If your container application crashed. This may be caused by errors in your scoring file's init() function. You can try debugging locally first. Please refer to https://aka.ms/debugimage#debug-locally for more information.\\n\\t3. You can also interactively debug your scoring file locally. Please refer to https://docs.microsoft.com/azure/machine-learning/how-to-debug-visual-studio-code#debug-and-troubleshoot-deployments for more information.\\n\\t4. View the diagnostic events to check status of container, it may help you to debug the issue.\\n\\\"RestartCount\\\": 3\\n\\\"CurrentState\\\": {\\\"state\\\":\\\"Waiting\\\",\\\"startTime\\\":null,\\\"exitCode\\\":null,\\\"finishTime\\\":null,\\\"detailStatus\\\":\\\"CrashLoopBackOff: Back-off restarting failed\\\"}\\n\\\"PreviousState\\\": {\\\"state\\\":\\\"Terminated\\\",\\\"startTime\\\":\\\"2021-10-14T19:56:09.618Z\\\",\\\"exitCode\\\":111,\\\"finishTime\\\":\\\"2021-10-14T19:56:17.923Z\\\",\\\"detailStatus\\\":\\\"Error\\\"}\\n\\\"Events\\\":\\n{\\\"count\\\":2,\\\"firstTimestamp\\\":\\\"2021-10-14T18:45:08Z\\\",\\\"lastTimestamp\\\":\\\"2021-10-14T19:34:54Z\\\",\\\"name\\\":\\\"Pulling\\\",\\\"message\\\":\\\"pulling image \\\"msamodeldeployment.azurecr.io/azureml/azureml_81c20017cb737c0aabf198e9e484b0bf@sha256:db4a61d1d2cd7d26498e355ac4803c6ef939ceb13e040d90c7a90a4b4a654725\\\"\\\",\\\"type\\\":\\\"Normal\\\"}\\n{\\\"count\\\":2,\\\"firstTimestamp\\\":\\\"2021-10-14T18:47:13Z\\\",\\\"lastTimestamp\\\":\\\"2021-10-14T19:37:00Z\\\",\\\"name\\\":\\\"Pulled\\\",\\\"message\\\":\\\"Successfully pulled image \\\"msamodeldeployment.azurecr.io/azureml/azureml_81c20017cb737c0aabf198e9e484b0bf@sha256:db4a61d1d2cd7d26498e355ac4803c6ef939ceb13e040d90c7a90a4b4a654725\\\"\\\",\\\"type\\\":\\\"Normal\\\"}\\n{\\\"count\\\":14,\\\"firstTimestamp\\\":\\\"2021-10-14T18:47:35Z\\\",\\\"lastTimestamp\\\":\\\"2021-10-14T19:40:32Z\\\",\\\"name\\\":\\\"Started\\\",\\\"message\\\":\\\"Started container\\\",\\\"type\\\":\\\"Normal\\\"}\\n{\\\"count\\\":14,\\\"firstTimestamp\\\":\\\"2021-10-14T18:47:42Z\\\",\\\"lastTimestamp\\\":\\\"2021-10-14T19:40:41Z\\\",\\\"name\\\":\\\"Killing\\\",\\\"message\\\":\\\"Killing container with id 4027a187dac963d9bfbf7d1898d1c25211007a375d16cacd84ff56bd759bcc1a.\\\",\\\"type\\\":\\\"Normal\\\"}\\n{\\\"count\\\":2,\\\"firstTimestamp\\\":\\\"2021-10-14T18:56:31Z\\\",\\\"lastTimestamp\\\":\\\"2021-10-14T19:38:37Z\\\",\\\"name\\\":\\\"Pulling\\\",\\\"message\\\":\\\"pulling image \\\"msamodeldeployment.azurecr.io/azureml/azureml_81c20017cb737c0aabf198e9e484b0bf@sha256:db4a61d1d2cd7d26498e355ac4803c6ef939ceb13e040d90c7a90a4b4a654725\\\"\\\",\\\"type\\\":\\\"Normal\\\"}\\n{\\\"count\\\":2,\\\"firstTimestamp\\\":\\\"2021-10-14T18:57:48Z\\\",\\\"lastTimestamp\\\":\\\"2021-10-14T19:39:56Z\\\",\\\"name\\\":\\\"Pulled\\\",\\\"message\\\":\\\"Successfully pulled image \\\"msamodeldeployment.azurecr.io/azureml/azureml_81c20017cb737c0aabf198e9e484b0bf@sha256:db4a61d1d2cd7d26498e355ac4803c6ef939ceb13e040d90c7a90a4b4a654725\\\"\\\",\\\"type\\\":\\\"Normal\\\"}\\n{\\\"count\\\":18,\\\"firstTimestamp\\\":\\\"2021-10-14T19:01:12Z\\\",\\\"lastTimestamp\\\":\\\"2021-10-14T19:54:15Z\\\",\\\"name\\\":\\\"Started\\\",\\\"message\\\":\\\"Started container\\\",\\\"type\\\":\\\"Normal\\\"}\\n{\\\"count\\\":18,\\\"firstTimestamp\\\":\\\"2021-10-14T19:01:22Z\\\",\\\"lastTimestamp\\\":\\\"2021-10-14T19:54:23Z\\\",\\\"name\\\":\\\"Killing\\\",\\\"message\\\":\\\"Killing container with id 2da35d1fe93e21b87977a7e2114877cf4c20d48389714152a0cecd10d7a62c28.\\\",\\\"type\\\":\\\"Normal\\\"}\\n{\\\"count\\\":2,\\\"firstTimestamp\\\":\\\"2021-10-14T19:10:20Z\\\",\\\"lastTimestamp\\\":\\\"2021-10-14T19:54:17Z\\\",\\\"name\\\":\\\"Pulling\\\",\\\"message\\\":\\\"pulling image \\\"msamodeldeployment.azurecr.io/azureml/azureml_81c20017cb737c0aabf198e9e484b0bf@sha256:db4a61d1d2cd7d26498e355ac4803c6ef939ceb13e040d90c7a90a4b4a654725\\\"\\\",\\\"type\\\":\\\"Normal\\\"}\\n{\\\"count\\\":2,\\\"firstTimestamp\\\":\\\"2021-10-14T19:11:38Z\\\",\\\"lastTimestamp\\\":\\\"2021-10-14T19:54:17Z\\\",\\\"name\\\":\\\"Pulled\\\",\\\"message\\\":\\\"Successfully pulled image \\\"msamodeldeployment.azurecr.io/azureml/azureml_81c20017cb737c0aabf198e9e484b0bf@sha256:db4a61d1d2cd7d26498e355ac4803c6ef939ceb13e040d90c7a90a4b4a654725\\\"\\\",\\\"type\\\":\\\"Normal\\\"}\\n{\\\"count\\\":18,\\\"firstTimestamp\\\":\\\"2021-10-14T19:14:58Z\\\",\\\"lastTimestamp\\\":\\\"2021-10-14T19:56:09Z\\\",\\\"name\\\":\\\"Started\\\",\\\"message\\\":\\\"Started container\\\",\\\"type\\\":\\\"Normal\\\"}\\n{\\\"count\\\":18,\\\"firstTimestamp\\\":\\\"2021-10-14T19:15:06Z\\\",\\\"lastTimestamp\\\":\\\"2021-10-14T19:56:17Z\\\",\\\"name\\\":\\\"Killing\\\",\\\"message\\\":\\\"Killing container with id a92729934095cee6e740fd56a7174d69d9a0043f71f032d66c6551c7781abf30.\\\",\\\"type\\\":\\\"Normal\\\"}\\n\\\"\\n    }\\n  ]\\n}\"\n    }\n}",
     "output_type": "error",
     "traceback": [
      "\u001b[1;31m---------------------------------------------------------------------------\u001b[0m",
      "\u001b[1;31mWebserviceException\u001b[0m                       Traceback (most recent call last)",
      "\u001b[1;32m<ipython-input-5-031e231ac5ae>\u001b[0m in \u001b[0;36m<module>\u001b[1;34m\u001b[0m\n\u001b[0;32m      9\u001b[0m     \u001b[0moverwrite\u001b[0m \u001b[1;33m=\u001b[0m \u001b[1;32mTrue\u001b[0m\u001b[1;33m,\u001b[0m\u001b[1;33m\u001b[0m\u001b[1;33m\u001b[0m\u001b[0m\n\u001b[0;32m     10\u001b[0m )\n\u001b[1;32m---> 11\u001b[1;33m \u001b[0mservice\u001b[0m\u001b[1;33m.\u001b[0m\u001b[0mwait_for_deployment\u001b[0m\u001b[1;33m(\u001b[0m\u001b[0mshow_output\u001b[0m \u001b[1;33m=\u001b[0m \u001b[1;32mTrue\u001b[0m\u001b[1;33m)\u001b[0m\u001b[1;33m\u001b[0m\u001b[1;33m\u001b[0m\u001b[0m\n\u001b[0m",
      "\u001b[1;32mc:\\python38\\lib\\site-packages\\azureml\\core\\webservice\\webservice.py\u001b[0m in \u001b[0;36mwait_for_deployment\u001b[1;34m(self, show_output, timeout_sec)\u001b[0m\n\u001b[0;32m    917\u001b[0m                     \u001b[0mlogs_response\u001b[0m \u001b[1;33m=\u001b[0m \u001b[1;34m'Current sub-operation type not known, more logs unavailable.'\u001b[0m\u001b[1;33m\u001b[0m\u001b[1;33m\u001b[0m\u001b[0m\n\u001b[0;32m    918\u001b[0m \u001b[1;33m\u001b[0m\u001b[0m\n\u001b[1;32m--> 919\u001b[1;33m                 raise WebserviceException('Service deployment polling reached non-successful terminal state, current '\n\u001b[0m\u001b[0;32m    920\u001b[0m                                           \u001b[1;34m'service state: {}\\n'\u001b[0m\u001b[1;33m\u001b[0m\u001b[1;33m\u001b[0m\u001b[0m\n\u001b[0;32m    921\u001b[0m                                           \u001b[1;34m'Operation ID: {}\\n'\u001b[0m\u001b[1;33m\u001b[0m\u001b[1;33m\u001b[0m\u001b[0m\n",
      "\u001b[1;31mWebserviceException\u001b[0m: WebserviceException:\n\tMessage: Service deployment polling reached non-successful terminal state, current service state: Failed\nOperation ID: 0e03df40-08ff-4849-a13e-ab9f127e10cd\nMore information can be found using '.get_logs()'\nError:\n{\n  \"code\": \"AciDeploymentFailed\",\n  \"statusCode\": 400,\n  \"message\": \"Aci Deployment failed with exception: Your container application crashed. This may be caused by errors in your scoring file's init() function.\n\t1. Please check the logs for your container instance: lit-regressor. From the AML SDK, you can run print(service.get_logs()) if you have service object to fetch the logs.\n\t2. You can interactively debug your scoring file locally. Please refer to https://docs.microsoft.com/azure/machine-learning/how-to-debug-visual-studio-code#debug-and-troubleshoot-deployments for more information.\n\t3. You can also try to run image msamodeldeployment.azurecr.io/azureml/azureml_81c20017cb737c0aabf198e9e484b0bf locally. Please refer to https://aka.ms/debugimage#service-launch-fails for more information.\",\n  \"details\": [\n    {\n      \"code\": \"CrashLoopBackOff\",\n      \"message\": \"Your container application crashed. This may be caused by errors in your scoring file's init() function.\n\t1. Please check the logs for your container instance: lit-regressor. From the AML SDK, you can run print(service.get_logs()) if you have service object to fetch the logs.\n\t2. You can interactively debug your scoring file locally. Please refer to https://docs.microsoft.com/azure/machine-learning/how-to-debug-visual-studio-code#debug-and-troubleshoot-deployments for more information.\n\t3. You can also try to run image msamodeldeployment.azurecr.io/azureml/azureml_81c20017cb737c0aabf198e9e484b0bf locally. Please refer to https://aka.ms/debugimage#service-launch-fails for more information.\"\n    },\n    {\n      \"code\": \"AciDeploymentFailed\",\n      \"message\": \"Your container application crashed. Please follow the steps to debug:\n\t1. From the AML SDK, you can run print(service.get_logs()) if you have service object to fetch the logs. Please refer to https://aka.ms/debugimage#dockerlog for more information.\n\t2. If your container application crashed. This may be caused by errors in your scoring file's init() function. You can try debugging locally first. Please refer to https://aka.ms/debugimage#debug-locally for more information.\n\t3. You can also interactively debug your scoring file locally. Please refer to https://docs.microsoft.com/azure/machine-learning/how-to-debug-visual-studio-code#debug-and-troubleshoot-deployments for more information.\n\t4. View the diagnostic events to check status of container, it may help you to debug the issue.\n\"RestartCount\": 3\n\"CurrentState\": {\"state\":\"Waiting\",\"startTime\":null,\"exitCode\":null,\"finishTime\":null,\"detailStatus\":\"CrashLoopBackOff: Back-off restarting failed\"}\n\"PreviousState\": {\"state\":\"Terminated\",\"startTime\":\"2021-10-14T19:56:09.618Z\",\"exitCode\":111,\"finishTime\":\"2021-10-14T19:56:17.923Z\",\"detailStatus\":\"Error\"}\n\"Events\":\n{\"count\":2,\"firstTimestamp\":\"2021-10-14T18:45:08Z\",\"lastTimestamp\":\"2021-10-14T19:34:54Z\",\"name\":\"Pulling\",\"message\":\"pulling image \"msamodeldeployment.azurecr.io/azureml/azureml_81c20017cb737c0aabf198e9e484b0bf@sha256:db4a61d1d2cd7d26498e355ac4803c6ef939ceb13e040d90c7a90a4b4a654725\"\",\"type\":\"Normal\"}\n{\"count\":2,\"firstTimestamp\":\"2021-10-14T18:47:13Z\",\"lastTimestamp\":\"2021-10-14T19:37:00Z\",\"name\":\"Pulled\",\"message\":\"Successfully pulled image \"msamodeldeployment.azurecr.io/azureml/azureml_81c20017cb737c0aabf198e9e484b0bf@sha256:db4a61d1d2cd7d26498e355ac4803c6ef939ceb13e040d90c7a90a4b4a654725\"\",\"type\":\"Normal\"}\n{\"count\":14,\"firstTimestamp\":\"2021-10-14T18:47:35Z\",\"lastTimestamp\":\"2021-10-14T19:40:32Z\",\"name\":\"Started\",\"message\":\"Started container\",\"type\":\"Normal\"}\n{\"count\":14,\"firstTimestamp\":\"2021-10-14T18:47:42Z\",\"lastTimestamp\":\"2021-10-14T19:40:41Z\",\"name\":\"Killing\",\"message\":\"Killing container with id 4027a187dac963d9bfbf7d1898d1c25211007a375d16cacd84ff56bd759bcc1a.\",\"type\":\"Normal\"}\n{\"count\":2,\"firstTimestamp\":\"2021-10-14T18:56:31Z\",\"lastTimestamp\":\"2021-10-14T19:38:37Z\",\"name\":\"Pulling\",\"message\":\"pulling image \"msamodeldeployment.azurecr.io/azureml/azureml_81c20017cb737c0aabf198e9e484b0bf@sha256:db4a61d1d2cd7d26498e355ac4803c6ef939ceb13e040d90c7a90a4b4a654725\"\",\"type\":\"Normal\"}\n{\"count\":2,\"firstTimestamp\":\"2021-10-14T18:57:48Z\",\"lastTimestamp\":\"2021-10-14T19:39:56Z\",\"name\":\"Pulled\",\"message\":\"Successfully pulled image \"msamodeldeployment.azurecr.io/azureml/azureml_81c20017cb737c0aabf198e9e484b0bf@sha256:db4a61d1d2cd7d26498e355ac4803c6ef939ceb13e040d90c7a90a4b4a654725\"\",\"type\":\"Normal\"}\n{\"count\":18,\"firstTimestamp\":\"2021-10-14T19:01:12Z\",\"lastTimestamp\":\"2021-10-14T19:54:15Z\",\"name\":\"Started\",\"message\":\"Started container\",\"type\":\"Normal\"}\n{\"count\":18,\"firstTimestamp\":\"2021-10-14T19:01:22Z\",\"lastTimestamp\":\"2021-10-14T19:54:23Z\",\"name\":\"Killing\",\"message\":\"Killing container with id 2da35d1fe93e21b87977a7e2114877cf4c20d48389714152a0cecd10d7a62c28.\",\"type\":\"Normal\"}\n{\"count\":2,\"firstTimestamp\":\"2021-10-14T19:10:20Z\",\"lastTimestamp\":\"2021-10-14T19:54:17Z\",\"name\":\"Pulling\",\"message\":\"pulling image \"msamodeldeployment.azurecr.io/azureml/azureml_81c20017cb737c0aabf198e9e484b0bf@sha256:db4a61d1d2cd7d26498e355ac4803c6ef939ceb13e040d90c7a90a4b4a654725\"\",\"type\":\"Normal\"}\n{\"count\":2,\"firstTimestamp\":\"2021-10-14T19:11:38Z\",\"lastTimestamp\":\"2021-10-14T19:54:17Z\",\"name\":\"Pulled\",\"message\":\"Successfully pulled image \"msamodeldeployment.azurecr.io/azureml/azureml_81c20017cb737c0aabf198e9e484b0bf@sha256:db4a61d1d2cd7d26498e355ac4803c6ef939ceb13e040d90c7a90a4b4a654725\"\",\"type\":\"Normal\"}\n{\"count\":18,\"firstTimestamp\":\"2021-10-14T19:14:58Z\",\"lastTimestamp\":\"2021-10-14T19:56:09Z\",\"name\":\"Started\",\"message\":\"Started container\",\"type\":\"Normal\"}\n{\"count\":18,\"firstTimestamp\":\"2021-10-14T19:15:06Z\",\"lastTimestamp\":\"2021-10-14T19:56:17Z\",\"name\":\"Killing\",\"message\":\"Killing container with id a92729934095cee6e740fd56a7174d69d9a0043f71f032d66c6551c7781abf30.\",\"type\":\"Normal\"}\n\"\n    }\n  ]\n}\n\tInnerException None\n\tErrorResponse \n{\n    \"error\": {\n        \"message\": \"Service deployment polling reached non-successful terminal state, current service state: Failed\\nOperation ID: 0e03df40-08ff-4849-a13e-ab9f127e10cd\\nMore information can be found using '.get_logs()'\\nError:\\n{\\n  \\\"code\\\": \\\"AciDeploymentFailed\\\",\\n  \\\"statusCode\\\": 400,\\n  \\\"message\\\": \\\"Aci Deployment failed with exception: Your container application crashed. This may be caused by errors in your scoring file's init() function.\\n\\t1. Please check the logs for your container instance: lit-regressor. From the AML SDK, you can run print(service.get_logs()) if you have service object to fetch the logs.\\n\\t2. You can interactively debug your scoring file locally. Please refer to https://docs.microsoft.com/azure/machine-learning/how-to-debug-visual-studio-code#debug-and-troubleshoot-deployments for more information.\\n\\t3. You can also try to run image msamodeldeployment.azurecr.io/azureml/azureml_81c20017cb737c0aabf198e9e484b0bf locally. Please refer to https://aka.ms/debugimage#service-launch-fails for more information.\\\",\\n  \\\"details\\\": [\\n    {\\n      \\\"code\\\": \\\"CrashLoopBackOff\\\",\\n      \\\"message\\\": \\\"Your container application crashed. This may be caused by errors in your scoring file's init() function.\\n\\t1. Please check the logs for your container instance: lit-regressor. From the AML SDK, you can run print(service.get_logs()) if you have service object to fetch the logs.\\n\\t2. You can interactively debug your scoring file locally. Please refer to https://docs.microsoft.com/azure/machine-learning/how-to-debug-visual-studio-code#debug-and-troubleshoot-deployments for more information.\\n\\t3. You can also try to run image msamodeldeployment.azurecr.io/azureml/azureml_81c20017cb737c0aabf198e9e484b0bf locally. Please refer to https://aka.ms/debugimage#service-launch-fails for more information.\\\"\\n    },\\n    {\\n      \\\"code\\\": \\\"AciDeploymentFailed\\\",\\n      \\\"message\\\": \\\"Your container application crashed. Please follow the steps to debug:\\n\\t1. From the AML SDK, you can run print(service.get_logs()) if you have service object to fetch the logs. Please refer to https://aka.ms/debugimage#dockerlog for more information.\\n\\t2. If your container application crashed. This may be caused by errors in your scoring file's init() function. You can try debugging locally first. Please refer to https://aka.ms/debugimage#debug-locally for more information.\\n\\t3. You can also interactively debug your scoring file locally. Please refer to https://docs.microsoft.com/azure/machine-learning/how-to-debug-visual-studio-code#debug-and-troubleshoot-deployments for more information.\\n\\t4. View the diagnostic events to check status of container, it may help you to debug the issue.\\n\\\"RestartCount\\\": 3\\n\\\"CurrentState\\\": {\\\"state\\\":\\\"Waiting\\\",\\\"startTime\\\":null,\\\"exitCode\\\":null,\\\"finishTime\\\":null,\\\"detailStatus\\\":\\\"CrashLoopBackOff: Back-off restarting failed\\\"}\\n\\\"PreviousState\\\": {\\\"state\\\":\\\"Terminated\\\",\\\"startTime\\\":\\\"2021-10-14T19:56:09.618Z\\\",\\\"exitCode\\\":111,\\\"finishTime\\\":\\\"2021-10-14T19:56:17.923Z\\\",\\\"detailStatus\\\":\\\"Error\\\"}\\n\\\"Events\\\":\\n{\\\"count\\\":2,\\\"firstTimestamp\\\":\\\"2021-10-14T18:45:08Z\\\",\\\"lastTimestamp\\\":\\\"2021-10-14T19:34:54Z\\\",\\\"name\\\":\\\"Pulling\\\",\\\"message\\\":\\\"pulling image \\\"msamodeldeployment.azurecr.io/azureml/azureml_81c20017cb737c0aabf198e9e484b0bf@sha256:db4a61d1d2cd7d26498e355ac4803c6ef939ceb13e040d90c7a90a4b4a654725\\\"\\\",\\\"type\\\":\\\"Normal\\\"}\\n{\\\"count\\\":2,\\\"firstTimestamp\\\":\\\"2021-10-14T18:47:13Z\\\",\\\"lastTimestamp\\\":\\\"2021-10-14T19:37:00Z\\\",\\\"name\\\":\\\"Pulled\\\",\\\"message\\\":\\\"Successfully pulled image \\\"msamodeldeployment.azurecr.io/azureml/azureml_81c20017cb737c0aabf198e9e484b0bf@sha256:db4a61d1d2cd7d26498e355ac4803c6ef939ceb13e040d90c7a90a4b4a654725\\\"\\\",\\\"type\\\":\\\"Normal\\\"}\\n{\\\"count\\\":14,\\\"firstTimestamp\\\":\\\"2021-10-14T18:47:35Z\\\",\\\"lastTimestamp\\\":\\\"2021-10-14T19:40:32Z\\\",\\\"name\\\":\\\"Started\\\",\\\"message\\\":\\\"Started container\\\",\\\"type\\\":\\\"Normal\\\"}\\n{\\\"count\\\":14,\\\"firstTimestamp\\\":\\\"2021-10-14T18:47:42Z\\\",\\\"lastTimestamp\\\":\\\"2021-10-14T19:40:41Z\\\",\\\"name\\\":\\\"Killing\\\",\\\"message\\\":\\\"Killing container with id 4027a187dac963d9bfbf7d1898d1c25211007a375d16cacd84ff56bd759bcc1a.\\\",\\\"type\\\":\\\"Normal\\\"}\\n{\\\"count\\\":2,\\\"firstTimestamp\\\":\\\"2021-10-14T18:56:31Z\\\",\\\"lastTimestamp\\\":\\\"2021-10-14T19:38:37Z\\\",\\\"name\\\":\\\"Pulling\\\",\\\"message\\\":\\\"pulling image \\\"msamodeldeployment.azurecr.io/azureml/azureml_81c20017cb737c0aabf198e9e484b0bf@sha256:db4a61d1d2cd7d26498e355ac4803c6ef939ceb13e040d90c7a90a4b4a654725\\\"\\\",\\\"type\\\":\\\"Normal\\\"}\\n{\\\"count\\\":2,\\\"firstTimestamp\\\":\\\"2021-10-14T18:57:48Z\\\",\\\"lastTimestamp\\\":\\\"2021-10-14T19:39:56Z\\\",\\\"name\\\":\\\"Pulled\\\",\\\"message\\\":\\\"Successfully pulled image \\\"msamodeldeployment.azurecr.io/azureml/azureml_81c20017cb737c0aabf198e9e484b0bf@sha256:db4a61d1d2cd7d26498e355ac4803c6ef939ceb13e040d90c7a90a4b4a654725\\\"\\\",\\\"type\\\":\\\"Normal\\\"}\\n{\\\"count\\\":18,\\\"firstTimestamp\\\":\\\"2021-10-14T19:01:12Z\\\",\\\"lastTimestamp\\\":\\\"2021-10-14T19:54:15Z\\\",\\\"name\\\":\\\"Started\\\",\\\"message\\\":\\\"Started container\\\",\\\"type\\\":\\\"Normal\\\"}\\n{\\\"count\\\":18,\\\"firstTimestamp\\\":\\\"2021-10-14T19:01:22Z\\\",\\\"lastTimestamp\\\":\\\"2021-10-14T19:54:23Z\\\",\\\"name\\\":\\\"Killing\\\",\\\"message\\\":\\\"Killing container with id 2da35d1fe93e21b87977a7e2114877cf4c20d48389714152a0cecd10d7a62c28.\\\",\\\"type\\\":\\\"Normal\\\"}\\n{\\\"count\\\":2,\\\"firstTimestamp\\\":\\\"2021-10-14T19:10:20Z\\\",\\\"lastTimestamp\\\":\\\"2021-10-14T19:54:17Z\\\",\\\"name\\\":\\\"Pulling\\\",\\\"message\\\":\\\"pulling image \\\"msamodeldeployment.azurecr.io/azureml/azureml_81c20017cb737c0aabf198e9e484b0bf@sha256:db4a61d1d2cd7d26498e355ac4803c6ef939ceb13e040d90c7a90a4b4a654725\\\"\\\",\\\"type\\\":\\\"Normal\\\"}\\n{\\\"count\\\":2,\\\"firstTimestamp\\\":\\\"2021-10-14T19:11:38Z\\\",\\\"lastTimestamp\\\":\\\"2021-10-14T19:54:17Z\\\",\\\"name\\\":\\\"Pulled\\\",\\\"message\\\":\\\"Successfully pulled image \\\"msamodeldeployment.azurecr.io/azureml/azureml_81c20017cb737c0aabf198e9e484b0bf@sha256:db4a61d1d2cd7d26498e355ac4803c6ef939ceb13e040d90c7a90a4b4a654725\\\"\\\",\\\"type\\\":\\\"Normal\\\"}\\n{\\\"count\\\":18,\\\"firstTimestamp\\\":\\\"2021-10-14T19:14:58Z\\\",\\\"lastTimestamp\\\":\\\"2021-10-14T19:56:09Z\\\",\\\"name\\\":\\\"Started\\\",\\\"message\\\":\\\"Started container\\\",\\\"type\\\":\\\"Normal\\\"}\\n{\\\"count\\\":18,\\\"firstTimestamp\\\":\\\"2021-10-14T19:15:06Z\\\",\\\"lastTimestamp\\\":\\\"2021-10-14T19:56:17Z\\\",\\\"name\\\":\\\"Killing\\\",\\\"message\\\":\\\"Killing container with id a92729934095cee6e740fd56a7174d69d9a0043f71f032d66c6551c7781abf30.\\\",\\\"type\\\":\\\"Normal\\\"}\\n\\\"\\n    }\\n  ]\\n}\"\n    }\n}"
     ]
    }
   ],
   "source": [
    "from azureml.core.webservice import AciWebservice\n",
    "aci_config = AciWebservice.deploy_configuration(cpu_cores = 1, memory_gb = 1)\n",
    "service = Model.deploy(\n",
    "    ws,\n",
    "    \"lit-regressor\",\n",
    "    [model],\n",
    "    dummy_inference_config,\n",
    "    aci_config,\n",
    "    overwrite = True,\n",
    ")\n",
    "service.wait_for_deployment(show_output = True)"
   ]
  },
  {
   "cell_type": "code",
   "execution_count": null,
   "id": "8efbdc1b",
   "metadata": {},
   "outputs": [],
   "source": [
    "import requests\n",
    "import json\n",
    "\n",
    "uri = service.scoring_uri\n",
    "requests.get(uri)\n",
    "headers = {\"Content-Type\": \"application/json\"}\n",
    "data = pd.DataFrame.from_dict({\"excerpt\": ['How are you', 'It is 3 am in the morning', \n",
    "                                           'Human will die eventually, only their emotion remains, passed down and be eternal']})\n",
    "data = json.dumps(data)\n",
    "response = requests.post(uri, data = data, headers = headers)\n",
    "print(response.json())"
   ]
  },
  {
   "cell_type": "code",
   "execution_count": null,
   "id": "9cc7583a",
   "metadata": {},
   "outputs": [],
   "source": []
  }
 ],
 "metadata": {
  "kernelspec": {
   "display_name": "Python 3",
   "language": "python",
   "name": "python3"
  },
  "language_info": {
   "codemirror_mode": {
    "name": "ipython",
    "version": 3
   },
   "file_extension": ".py",
   "mimetype": "text/x-python",
   "name": "python",
   "nbconvert_exporter": "python",
   "pygments_lexer": "ipython3",
   "version": "3.8.5"
  }
 },
 "nbformat": 4,
 "nbformat_minor": 5
}
