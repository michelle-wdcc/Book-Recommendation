{
  "cells": [
    {
      "cell_type": "code",
      "execution_count": 1,
      "metadata": {
        "id": "0SNJ3nsI5RNN"
      },
      "outputs": [],
      "source": [
        "import requests\n",
        "from bs4 import BeautifulSoup\n",
        "import re\n",
        "import pandas as pd\n",
        "import numpy as np\n",
        "import itertools"
      ]
    },
    {
      "cell_type": "code",
      "execution_count": 33,
      "metadata": {
        "id": "qwpSmuMP5VFT"
      },
      "outputs": [],
      "source": [
        "url = '''https://www.gutenberg.org/ebooks/search/?sort_order=downloads&start_index=1'''\n",
        "\n",
        "respond = requests.get(url)\n",
        "book_soup = BeautifulSoup(respond.text, 'html.parser')\n",
        "# Filter the a-tags to get just the titles\n",
        "book_tags = book_soup.find_all('a', attrs={'class': \"link\"})\n",
        "book_tags = [tag.attrs['href'] for tag in book_tags \n",
        "              if tag.attrs['href'].startswith('/ebook') & (tag.attrs['href'][-1].isdigit()==True)]\n",
        "\n",
        "# Remove duplicate links\n",
        "book_tags = list(dict.fromkeys(book_tags))\n",
        "  #book_tags += book_tags"
      ]
    },
    {
      "cell_type": "code",
      "execution_count": 34,
      "metadata": {
        "colab": {
          "base_uri": "https://localhost:8080/"
        },
        "id": "7KBqnb86ngre",
        "outputId": "28becc2f-52af-4c4c-c260-d106e5b54b9a"
      },
      "outputs": [
        {
          "data": {
            "text/plain": [
              "50"
            ]
          },
          "execution_count": 34,
          "metadata": {},
          "output_type": "execute_result"
        }
      ],
      "source": [
        "len(book_tags)"
      ]
    },
    {
      "cell_type": "code",
      "execution_count": 36,
      "metadata": {
        "colab": {
          "base_uri": "https://localhost:8080/"
        },
        "id": "jQlMHiu_-mOb",
        "outputId": "eb098aa6-7708-40fe-f33a-703154e85861"
      },
      "outputs": [
        {
          "name": "stdout",
          "output_type": "stream",
          "text": [
            "In total we have 50 book titles\n",
            "['/ebooks/10007', '/ebooks/158', '/ebooks/4517', '/ebooks/3825', '/ebooks/521', '/ebooks/1998', '/ebooks/34901', '/ebooks/28054', '/ebooks/1934', '/ebooks/766', '/ebooks/113', '/ebooks/2500', '/ebooks/5827', '/ebooks/140', '/ebooks/3296', '/ebooks/4363', '/ebooks/8800', '/ebooks/209', '/ebooks/42324', '/ebooks/779', '/ebooks/1251', '/ebooks/3090', '/ebooks/61', '/ebooks/600', '/ebooks/10', '/ebooks/10007', '/ebooks/158', '/ebooks/4517', '/ebooks/3825', '/ebooks/521', '/ebooks/1998', '/ebooks/34901', '/ebooks/28054', '/ebooks/1934', '/ebooks/766', '/ebooks/113', '/ebooks/2500', '/ebooks/5827', '/ebooks/140', '/ebooks/3296', '/ebooks/4363', '/ebooks/8800', '/ebooks/209', '/ebooks/42324', '/ebooks/779', '/ebooks/1251', '/ebooks/3090', '/ebooks/61', '/ebooks/600', '/ebooks/10']\n"
          ]
        }
      ],
      "source": [
        "\n",
        "print(\"In total we have \" + str(len(book_tags)) + \" book titles\") \n",
        "print(book_tags)"
      ]
    },
    {
      "cell_type": "code",
      "execution_count": 37,
      "metadata": {
        "colab": {
          "base_uri": "https://localhost:8080/"
        },
        "id": "vmyoht-zMUXR",
        "outputId": "593ca8b6-386c-4e20-9ace-fecde5d03d72"
      },
      "outputs": [
        {
          "name": "stdout",
          "output_type": "stream",
          "text": [
            "['https://www.gutenberg.org/ebooks/10007', 'https://www.gutenberg.org/ebooks/158', 'https://www.gutenberg.org/ebooks/4517', 'https://www.gutenberg.org/ebooks/3825', 'https://www.gutenberg.org/ebooks/521', 'https://www.gutenberg.org/ebooks/1998', 'https://www.gutenberg.org/ebooks/34901', 'https://www.gutenberg.org/ebooks/28054', 'https://www.gutenberg.org/ebooks/1934', 'https://www.gutenberg.org/ebooks/766']\n"
          ]
        }
      ],
      "source": [
        "base_url = \"https://www.gutenberg.org\"\n",
        "# Get book links\n",
        "book_links = [base_url + tag  for tag in book_tags]\n",
        "print(book_links[:10])"
      ]
    },
    {
      "cell_type": "code",
      "execution_count": 38,
      "metadata": {
        "colab": {
          "base_uri": "https://localhost:8080/"
        },
        "id": "RuxGsC2oLFq3",
        "outputId": "f4bfb172-3999-4deb-87b9-d8f0e21bf434"
      },
      "outputs": [
        {
          "name": "stdout",
          "output_type": "stream",
          "text": [
            "There are a total of 50 individual movie reviews\n",
            "['https://www.gutenberg.org/ebooks/10007.html.images', 'https://www.gutenberg.org/ebooks/158.html.images', 'https://www.gutenberg.org/ebooks/4517.html.images', 'https://www.gutenberg.org/ebooks/3825.html.images', 'https://www.gutenberg.org/ebooks/521.html.images', 'https://www.gutenberg.org/ebooks/1998.html.images', 'https://www.gutenberg.org/ebooks/34901.html.images', 'https://www.gutenberg.org/ebooks/28054.html.images', 'https://www.gutenberg.org/ebooks/1934.html.images', 'https://www.gutenberg.org/ebooks/766.html.images']\n"
          ]
        }
      ],
      "source": [
        "# Create a helper function to get review links\n",
        "def getBook(soup):\n",
        "    # Get all the review tags\n",
        "    book_list = soup.find_all('a', attrs={'class':'link'})\n",
        "    # Get the first review tag\n",
        "    format_tag = book_list[0]\n",
        "    # Return the none review link\n",
        "    format_link = \"https://www.gutenberg.org\" + format_tag['href']\n",
        "    return format_link\n",
        "\n",
        "# Get a list of soup objects. This takes a while\n",
        "book_form_soups = [BeautifulSoup(requests.get(link).text, 'html.parser') for link in book_links]\n",
        "# Get all 100 movie review links\n",
        "book_format_list = [getBook(book_form_soup) for book_form_soup in book_form_soups]\n",
        "\n",
        "print(\"There are a total of \" + str(len(book_format_list)) + \" individual movie reviews\")\n",
        "print(book_format_list[:10])"
      ]
    },
    {
      "cell_type": "code",
      "execution_count": 39,
      "metadata": {
        "id": "bFRqlOgHdCzB"
      },
      "outputs": [],
      "source": [
        "# Create lists for dataframe and csv later\n",
        "book_texts = []\n",
        "book_titles = []\n",
        "regex = re.compile('chapter.*')\n",
        "\n",
        "# Loop through the movie reviews\n",
        "for url in book_format_list:\n",
        "    # Get the review page\n",
        "    soup = BeautifulSoup(requests.get(url).text, 'html.parser')\n",
        "    # Find div tags with class text show-more__control, then get its text\n",
        "    if soup.find_all('div', attrs={'class': regex}):\n",
        "      chapter_tag = soup.find('div', attrs={'class': 'chapter'}).getText()\n",
        "    else:\n",
        "      chapter_tag = soup.find_all('p')[6].getText()\n",
        "    # Add the review text in the review list\n",
        "    book_texts += [chapter_tag]\n",
        "    # Find the h1 tag and get the second element i.e. the title\n",
        "    title_tag = soup.find('h1').getText()\n",
        "    # Add the title in the title list\n",
        "    book_titles += [title_tag]"
      ]
    },
    {
      "cell_type": "code",
      "execution_count": 40,
      "metadata": {
        "colab": {
          "base_uri": "https://localhost:8080/"
        },
        "id": "A7Pnf5omH0ST",
        "outputId": "19acad2e-c351-4c82-9b99-f33ab5521d64"
      },
      "outputs": [
        {
          "name": "stdout",
          "output_type": "stream",
          "text": [
            "                                                book  ...                                       book_chapter\n",
            "0                                           Carmilla  ...  \\n\\nPROLOGUE\\nUpon a paper attached to the Nar...\n",
            "1                                               Emma  ...                                     \\n\\nVOLUME I\\n\n",
            "2                                        ETHAN FROME  ...                                                  I\n",
            "3                                          PYGMALION  ...                                                   \n",
            "4  The\\r\\nLife and Adventures\\r\\nof\\r\\nRobinson C...  ...  \\n\\nCHAPTER I.\\r\\nSTART IN LIFE\\nI was born in...\n",
            "5                             THUS SPAKE ZARATHUSTRA  ...                                                 \\n\n",
            "6               \\nOn Liberty. By John Stuart Mill.\\n  ...                                           [Pg vii]\n",
            "7                             The Brothers Karamazov  ...                                       \\n\\nPART I\\n\n",
            "8     SONGS OF INNOCENCE\\nand\\r\\nSONGS OF EXPERIENCE  ...                                                   \n",
            "9                                  DAVID COPPERFIELD  ...                                           CONTENTS\n",
            "\n",
            "[10 rows x 3 columns]\n"
          ]
        }
      ],
      "source": [
        "# Construct a dataframe\n",
        "df = pd.DataFrame({'book': book_titles, 'book_download_link':book_format_list,'book_chapter': book_texts})\n",
        "print(df[:10])\n",
        "# Put into .csv file\n",
        "with open(\"Book_download.csv\", mode='w', newline='\\n') as f:\n",
        "    df.to_csv(f, sep=\",\", line_terminator='\\n', encoding='utf-8')\n",
        "#df.to_csv('Book_download.csv', index=False)"
      ]
    },
    {
      "cell_type": "code",
      "execution_count": 45,
      "metadata": {
        "colab": {
          "base_uri": "https://localhost:8080/",
          "height": 323
        },
        "id": "STSvNnMzUQ5L",
        "outputId": "ee1854dc-83c5-440d-d3e4-3d04e672ed58"
      },
      "outputs": [
        {
          "data": {
            "text/html": [
              "<div>\n",
              "<style scoped>\n",
              "    .dataframe tbody tr th:only-of-type {\n",
              "        vertical-align: middle;\n",
              "    }\n",
              "\n",
              "    .dataframe tbody tr th {\n",
              "        vertical-align: top;\n",
              "    }\n",
              "\n",
              "    .dataframe thead th {\n",
              "        text-align: right;\n",
              "    }\n",
              "</style>\n",
              "<table border=\"1\" class=\"dataframe\">\n",
              "  <thead>\n",
              "    <tr style=\"text-align: right;\">\n",
              "      <th></th>\n",
              "      <th>Unnamed: 0</th>\n",
              "      <th>book</th>\n",
              "      <th>book_download_link</th>\n",
              "      <th>book_chapter</th>\n",
              "    </tr>\n",
              "  </thead>\n",
              "  <tbody>\n",
              "    <tr>\n",
              "      <th>45</th>\n",
              "      <td>45</td>\n",
              "      <td>Le Morte D’Arthur</td>\n",
              "      <td>https://www.gutenberg.org/ebooks/1251.html.images</td>\n",
              "      <td>\\n\\nBIBLIOGRAPHICAL NOTE\\nThe Morte D’Arthur w...</td>\n",
              "    </tr>\n",
              "    <tr>\n",
              "      <th>46</th>\n",
              "      <td>46</td>\n",
              "      <td>THE ENTIRE ORIGINAL MAUPASSANT SHORT STORIES</td>\n",
              "      <td>https://www.gutenberg.org/ebooks/3090.html.images</td>\n",
              "      <td>VOLUME I.</td>\n",
              "    </tr>\n",
              "    <tr>\n",
              "      <th>47</th>\n",
              "      <td>47</td>\n",
              "      <td>MANIFESTO OF THE COMMUNIST PARTY</td>\n",
              "      <td>https://www.gutenberg.org/ebooks/61.html.noimages</td>\n",
              "      <td>*** START OF THIS PROJECT GUTENBERG EBOOK THE ...</td>\n",
              "    </tr>\n",
              "    <tr>\n",
              "      <th>48</th>\n",
              "      <td>48</td>\n",
              "      <td>Notes from the Underground</td>\n",
              "      <td>https://www.gutenberg.org/ebooks/600.html.images</td>\n",
              "      <td>*The author of the diary and the diary itself ...</td>\n",
              "    </tr>\n",
              "    <tr>\n",
              "      <th>49</th>\n",
              "      <td>49</td>\n",
              "      <td>The King James Version of the Bible</td>\n",
              "      <td>https://www.gutenberg.org/ebooks/10.html.images</td>\n",
              "      <td>\\n\\nThe Old Testament of the King James Versio...</td>\n",
              "    </tr>\n",
              "  </tbody>\n",
              "</table>\n",
              "</div>"
            ],
            "text/plain": [
              "    Unnamed: 0  ...                                       book_chapter\n",
              "45          45  ...  \\n\\nBIBLIOGRAPHICAL NOTE\\nThe Morte D’Arthur w...\n",
              "46          46  ...                                          VOLUME I.\n",
              "47          47  ...  *** START OF THIS PROJECT GUTENBERG EBOOK THE ...\n",
              "48          48  ...  *The author of the diary and the diary itself ...\n",
              "49          49  ...  \\n\\nThe Old Testament of the King James Versio...\n",
              "\n",
              "[5 rows x 4 columns]"
            ]
          },
          "execution_count": 45,
          "metadata": {},
          "output_type": "execute_result"
        }
      ],
      "source": [
        "data=pd.read_csv('Book_download.csv')\n",
        "data.head()\n",
        "data.tail()"
      ]
    },
    {
      "cell_type": "code",
      "execution_count": 46,
      "metadata": {
        "colab": {
          "base_uri": "https://localhost:8080/",
          "height": 306
        },
        "id": "DuYzixiyYNNt",
        "outputId": "0cec9c78-b217-4868-c742-e006c8dbfb71"
      },
      "outputs": [
        {
          "data": {
            "text/html": [
              "<div>\n",
              "<style scoped>\n",
              "    .dataframe tbody tr th:only-of-type {\n",
              "        vertical-align: middle;\n",
              "    }\n",
              "\n",
              "    .dataframe tbody tr th {\n",
              "        vertical-align: top;\n",
              "    }\n",
              "\n",
              "    .dataframe thead th {\n",
              "        text-align: right;\n",
              "    }\n",
              "</style>\n",
              "<table border=\"1\" class=\"dataframe\">\n",
              "  <thead>\n",
              "    <tr style=\"text-align: right;\">\n",
              "      <th></th>\n",
              "      <th>Unnamed: 0</th>\n",
              "      <th>book</th>\n",
              "      <th>book_download_link</th>\n",
              "      <th>book_chapter</th>\n",
              "    </tr>\n",
              "  </thead>\n",
              "  <tbody>\n",
              "    <tr>\n",
              "      <th>45</th>\n",
              "      <td>45</td>\n",
              "      <td>Le Morte D’Arthur</td>\n",
              "      <td>https://www.gutenberg.org/ebooks/1251.html.images</td>\n",
              "      <td>bibliographical note the morte d’arthur was ...</td>\n",
              "    </tr>\n",
              "    <tr>\n",
              "      <th>46</th>\n",
              "      <td>46</td>\n",
              "      <td>THE ENTIRE ORIGINAL MAUPASSANT SHORT STORIES</td>\n",
              "      <td>https://www.gutenberg.org/ebooks/3090.html.images</td>\n",
              "      <td>volume i.</td>\n",
              "    </tr>\n",
              "    <tr>\n",
              "      <th>47</th>\n",
              "      <td>47</td>\n",
              "      <td>MANIFESTO OF THE COMMUNIST PARTY</td>\n",
              "      <td>https://www.gutenberg.org/ebooks/61.html.noimages</td>\n",
              "      <td>*** start of this project gutenberg ebook the ...</td>\n",
              "    </tr>\n",
              "    <tr>\n",
              "      <th>48</th>\n",
              "      <td>48</td>\n",
              "      <td>Notes from the Underground</td>\n",
              "      <td>https://www.gutenberg.org/ebooks/600.html.images</td>\n",
              "      <td>*the author of the diary and the diary itself ...</td>\n",
              "    </tr>\n",
              "    <tr>\n",
              "      <th>49</th>\n",
              "      <td>49</td>\n",
              "      <td>The King James Version of the Bible</td>\n",
              "      <td>https://www.gutenberg.org/ebooks/10.html.images</td>\n",
              "      <td>the old testament of the king james version ...</td>\n",
              "    </tr>\n",
              "  </tbody>\n",
              "</table>\n",
              "</div>"
            ],
            "text/plain": [
              "    Unnamed: 0  ...                                       book_chapter\n",
              "45          45  ...    bibliographical note the morte d’arthur was ...\n",
              "46          46  ...                                          volume i.\n",
              "47          47  ...  *** start of this project gutenberg ebook the ...\n",
              "48          48  ...  *the author of the diary and the diary itself ...\n",
              "49          49  ...    the old testament of the king james version ...\n",
              "\n",
              "[5 rows x 4 columns]"
            ]
          },
          "execution_count": 46,
          "metadata": {},
          "output_type": "execute_result"
        }
      ],
      "source": [
        "data['book_chapter']=data['book_chapter'].str.replace('\\\\n', ' ')\n",
        "data['book_chapter']=data['book_chapter'].str.replace('\\\\r', ' ')\n",
        "data['book_chapter']=data['book_chapter'].str.lower()\n",
        "data['book']=data['book'].str.replace('\\\\n', ' ')\n",
        "data['book']=data['book'].str.replace('\\\\r', ' ')\n",
        "data.tail()\n",
        "\n",
        "#data[:10]"
      ]
    }
  ],
  "metadata": {
    "colab": {
      "name": "MSA_workshop2.ipynb",
      "provenance": []
    },
    "kernelspec": {
      "display_name": "Python 3",
      "name": "python3"
    },
    "language_info": {
      "name": "python"
    }
  },
  "nbformat": 4,
  "nbformat_minor": 0
}
